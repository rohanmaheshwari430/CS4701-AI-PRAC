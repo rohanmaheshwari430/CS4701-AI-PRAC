{
 "cells": [
  {
   "cell_type": "markdown",
   "metadata": {},
   "source": [
    "**importing libraries**"
   ]
  },
  {
   "cell_type": "code",
   "execution_count": 2,
   "metadata": {},
   "outputs": [
    {
     "name": "stdout",
     "output_type": "stream",
     "text": [
      "Requirement already satisfied: opencv-python in c:\\users\\rohan\\tfod\\lib\\site-packages (4.7.0.72)\n",
      "Requirement already satisfied: numpy>=1.21.2 in c:\\users\\rohan\\tfod\\lib\\site-packages (from opencv-python) (1.24.3)\n"
     ]
    }
   ],
   "source": [
    "!pip install opencv-python"
   ]
  },
  {
   "cell_type": "code",
   "execution_count": 1,
   "metadata": {},
   "outputs": [],
   "source": [
    "import cv2 \n",
    "import uuid\n",
    "import os\n",
    "import time"
   ]
  },
  {
   "cell_type": "markdown",
   "metadata": {},
   "source": [
    "**creating label list and defining number of images per label**"
   ]
  },
  {
   "cell_type": "code",
   "execution_count": 4,
   "metadata": {},
   "outputs": [],
   "source": [
    "labels = ['thumbsup', 'thumbsdown', 'thankyou', 'livelong']\n",
    "number_imgs = 5"
   ]
  },
  {
   "cell_type": "markdown",
   "metadata": {},
   "source": [
    "**creating directory hierarchy**"
   ]
  },
  {
   "cell_type": "code",
   "execution_count": 5,
   "metadata": {},
   "outputs": [],
   "source": [
    "IMAGES_PATH = os.path.join('Tensorflow', 'workspace', 'images', 'collectedimages')"
   ]
  },
  {
   "cell_type": "code",
   "execution_count": 6,
   "metadata": {},
   "outputs": [],
   "source": [
    "if not os.path.exists(IMAGES_PATH):\n",
    "    if os.name == 'posix':\n",
    "        !mkdir -p {IMAGES_PATH}\n",
    "    if os.name == 'nt':\n",
    "         !mkdir {IMAGES_PATH}\n",
    "for label in labels:\n",
    "    path = os.path.join(IMAGES_PATH, label)\n",
    "    if not os.path.exists(path):\n",
    "        !mkdir {path}"
   ]
  },
  {
   "cell_type": "markdown",
   "metadata": {},
   "source": [
    "**using CV2 to access webcam and collect image**"
   ]
  },
  {
   "cell_type": "code",
   "execution_count": 18,
   "metadata": {},
   "outputs": [
    {
     "name": "stdout",
     "output_type": "stream",
     "text": [
      "Collecting images for thumbsup\n",
      "Collecting image 0\n",
      "Collecting image 1\n",
      "Collecting image 2\n",
      "Collecting image 3\n",
      "Collecting image 4\n"
     ]
    }
   ],
   "source": [
    "for label in labels:\n",
    "    cap = cv2.VideoCapture(0)\n",
    "    print('Collecting images for {}'.format(label))\n",
    "    time.sleep(5)\n",
    "    for imgnum in range(number_imgs):\n",
    "        print('Collecting image {}'.format(imgnum))\n",
    "        ret, frame = cap.read()\n",
    "        imgname = os.path.join(IMAGES_PATH,label,label+'.'+'{}.jpg'.format(str(uuid.uuid1())))\n",
    "        cv2.imwrite(imgname, frame)\n",
    "        cv2.imshow('frame', frame)\n",
    "        time.sleep(2)\n",
    "\n",
    "        if cv2.waitKey(1) & 0xFF == ord('q'):\n",
    "            break\n",
    "cap.release()\n",
    "cv2.destroyAllWindows()"
   ]
  },
  {
   "cell_type": "markdown",
   "metadata": {},
   "source": [
    "**installing requirements to run labelimg software to create our dataset**"
   ]
  },
  {
   "cell_type": "code",
   "execution_count": 7,
   "metadata": {},
   "outputs": [
    {
     "name": "stdout",
     "output_type": "stream",
     "text": [
      "Collecting pyqt5\n",
      "  Downloading PyQt5-5.15.9-cp37-abi3-win_amd64.whl (6.8 MB)\n",
      "                                              0.0/6.8 MB ? eta -:--:--\n",
      "     -                                        0.3/6.8 MB 6.8 MB/s eta 0:00:01\n",
      "     ------                                   1.1/6.8 MB 11.7 MB/s eta 0:00:01\n",
      "     -----------                              1.9/6.8 MB 13.4 MB/s eta 0:00:01\n",
      "     ---------------                          2.6/6.8 MB 13.9 MB/s eta 0:00:01\n",
      "     -------------------                      3.3/6.8 MB 15.2 MB/s eta 0:00:01\n",
      "     ------------------------                 4.2/6.8 MB 14.8 MB/s eta 0:00:01\n",
      "     ---------------------------              4.8/6.8 MB 15.3 MB/s eta 0:00:01\n",
      "     -------------------------------          5.3/6.8 MB 14.7 MB/s eta 0:00:01\n",
      "     -----------------------------------      6.1/6.8 MB 15.1 MB/s eta 0:00:01\n",
      "     ---------------------------------------  6.8/6.8 MB 14.6 MB/s eta 0:00:01\n",
      "     ---------------------------------------- 6.8/6.8 MB 14.1 MB/s eta 0:00:00\n",
      "Collecting lxml\n",
      "  Downloading lxml-4.9.2-cp311-cp311-win_amd64.whl (3.8 MB)\n",
      "                                              0.0/3.8 MB ? eta -:--:--\n",
      "     ------                                   0.6/3.8 MB 18.5 MB/s eta 0:00:01\n",
      "     --------------                           1.3/3.8 MB 14.1 MB/s eta 0:00:01\n",
      "     ----------------------                   2.1/3.8 MB 16.6 MB/s eta 0:00:01\n",
      "     ------------------------------           2.9/3.8 MB 15.4 MB/s eta 0:00:01\n",
      "     ---------------------------------------  3.7/3.8 MB 16.8 MB/s eta 0:00:01\n",
      "     ---------------------------------------- 3.8/3.8 MB 15.0 MB/s eta 0:00:00\n",
      "Collecting PyQt5-sip<13,>=12.11 (from pyqt5)\n",
      "  Downloading PyQt5_sip-12.12.1-cp311-cp311-win_amd64.whl (78 kB)\n",
      "                                              0.0/78.4 kB ? eta -:--:--\n",
      "     ---------------------------------------- 78.4/78.4 kB ? eta 0:00:00\n",
      "Collecting PyQt5-Qt5>=5.15.2 (from pyqt5)\n",
      "  Downloading PyQt5_Qt5-5.15.2-py3-none-win_amd64.whl (50.1 MB)\n",
      "                                              0.0/50.1 MB ? eta -:--:--\n",
      "     -                                        1.3/50.1 MB 39.4 MB/s eta 0:00:02\n",
      "     -                                        2.3/50.1 MB 29.9 MB/s eta 0:00:02\n",
      "     --                                       3.7/50.1 MB 29.9 MB/s eta 0:00:02\n",
      "     ---                                      4.9/50.1 MB 25.8 MB/s eta 0:00:02\n",
      "     -----                                    6.5/50.1 MB 29.6 MB/s eta 0:00:02\n",
      "     ------                                   7.9/50.1 MB 28.1 MB/s eta 0:00:02\n",
      "     -------                                  9.5/50.1 MB 30.3 MB/s eta 0:00:02\n",
      "     --------                                10.8/50.1 MB 28.5 MB/s eta 0:00:02\n",
      "     ---------                               11.7/50.1 MB 28.4 MB/s eta 0:00:02\n",
      "     ----------                              13.3/50.1 MB 28.5 MB/s eta 0:00:02\n",
      "     -----------                             14.6/50.1 MB 29.8 MB/s eta 0:00:02\n",
      "     ------------                            16.1/50.1 MB 28.4 MB/s eta 0:00:02\n",
      "     -------------                           17.4/50.1 MB 29.7 MB/s eta 0:00:02\n",
      "     --------------                          18.7/50.1 MB 28.4 MB/s eta 0:00:02\n",
      "     ---------------                         19.8/50.1 MB 27.3 MB/s eta 0:00:02\n",
      "     ----------------                        21.4/50.1 MB 29.7 MB/s eta 0:00:01\n",
      "     -----------------                       22.9/50.1 MB 28.5 MB/s eta 0:00:01\n",
      "     ------------------                      24.2/50.1 MB 28.5 MB/s eta 0:00:01\n",
      "     --------------------                    25.7/50.1 MB 28.5 MB/s eta 0:00:01\n",
      "     ---------------------                   27.1/50.1 MB 28.4 MB/s eta 0:00:01\n",
      "     ---------------------                   28.2/50.1 MB 29.7 MB/s eta 0:00:01\n",
      "     -----------------------                 29.8/50.1 MB 29.7 MB/s eta 0:00:01\n",
      "     ------------------------                31.2/50.1 MB 29.8 MB/s eta 0:00:01\n",
      "     -------------------------               32.4/50.1 MB 28.5 MB/s eta 0:00:01\n",
      "     --------------------------              33.9/50.1 MB 29.7 MB/s eta 0:00:01\n",
      "     ---------------------------             35.2/50.1 MB 29.8 MB/s eta 0:00:01\n",
      "     ----------------------------            36.8/50.1 MB 31.2 MB/s eta 0:00:01\n",
      "     -----------------------------           38.1/50.1 MB 29.7 MB/s eta 0:00:01\n",
      "     ------------------------------          39.6/50.1 MB 31.2 MB/s eta 0:00:01\n",
      "     -------------------------------         40.8/50.1 MB 29.7 MB/s eta 0:00:01\n",
      "     ---------------------------------       42.4/50.1 MB 31.2 MB/s eta 0:00:01\n",
      "     ----------------------------------      43.7/50.1 MB 31.2 MB/s eta 0:00:01\n",
      "     -----------------------------------     45.1/50.1 MB 31.1 MB/s eta 0:00:01\n",
      "     ------------------------------------    46.7/50.1 MB 31.2 MB/s eta 0:00:01\n",
      "     -------------------------------------   48.0/50.1 MB 31.2 MB/s eta 0:00:01\n",
      "     --------------------------------------  49.5/50.1 MB 31.2 MB/s eta 0:00:01\n",
      "     --------------------------------------  50.1/50.1 MB 29.8 MB/s eta 0:00:01\n",
      "     --------------------------------------  50.1/50.1 MB 29.8 MB/s eta 0:00:01\n",
      "     --------------------------------------- 50.1/50.1 MB 21.1 MB/s eta 0:00:00\n",
      "Installing collected packages: PyQt5-Qt5, PyQt5-sip, lxml, pyqt5\n",
      "Successfully installed PyQt5-Qt5-5.15.2 PyQt5-sip-12.12.1 lxml-4.9.2 pyqt5-5.15.9\n"
     ]
    }
   ],
   "source": [
    "!pip install --upgrade pyqt5 lxml"
   ]
  },
  {
   "cell_type": "code",
   "execution_count": 8,
   "metadata": {},
   "outputs": [],
   "source": [
    "LABELIMG_PATH = os.path.join('Tensorflow', 'labelimg')"
   ]
  },
  {
   "cell_type": "code",
   "execution_count": 9,
   "metadata": {},
   "outputs": [
    {
     "name": "stderr",
     "output_type": "stream",
     "text": [
      "Cloning into 'Tensorflow\\labelimg'...\n"
     ]
    }
   ],
   "source": [
    "if not os.path.exists(LABELIMG_PATH):\n",
    "    !mkdir {LABELIMG_PATH}\n",
    "    !git clone https://github.com/tzutalin/labelImg {LABELIMG_PATH}"
   ]
  },
  {
   "cell_type": "code",
   "execution_count": 13,
   "metadata": {},
   "outputs": [],
   "source": [
    "if os.name == 'posix':\n",
    "    !make qt5py3\n",
    "if os.name =='nt':\n",
    "    !cd {LABELIMG_PATH} && pyrcc5 -o libs/resources.py resources.qrc"
   ]
  },
  {
   "cell_type": "code",
   "execution_count": 19,
   "metadata": {},
   "outputs": [
    {
     "name": "stdout",
     "output_type": "stream",
     "text": [
      "Image:D:\\YouTube\\OD\\TFODCourse\\Tensorflow\\workspace\\images\\collectedimages\\thumbsup\\thumbsup.6a706a36-940f-11eb-b4eb-5cf3709bbcc6.jpg -> Annotation:D:/YouTube/OD/TFODCourse/Tensorflow/workspace/images/collectedimages/thumbsup/thumbsup.6a706a36-940f-11eb-b4eb-5cf3709bbcc6.xml\n",
      "Image:D:\\YouTube\\OD\\TFODCourse\\Tensorflow\\workspace\\images\\collectedimages\\thumbsup\\thumbsup.6ba4d864-940f-11eb-8c74-5cf3709bbcc6.jpg -> Annotation:D:/YouTube/OD/TFODCourse/Tensorflow/workspace/images/collectedimages/thumbsup/thumbsup.6ba4d864-940f-11eb-8c74-5cf3709bbcc6.xml\n",
      "Image:D:\\YouTube\\OD\\TFODCourse\\Tensorflow\\workspace\\images\\collectedimages\\thumbsup\\thumbsup.6cd9c8e2-940f-11eb-b901-5cf3709bbcc6.jpg -> Annotation:D:/YouTube/OD/TFODCourse/Tensorflow/workspace/images/collectedimages/thumbsup/thumbsup.6cd9c8e2-940f-11eb-b901-5cf3709bbcc6.xml\n",
      "Image:D:\\YouTube\\OD\\TFODCourse\\Tensorflow\\workspace\\images\\collectedimages\\thumbsup\\thumbsup.6e0f5bc0-940f-11eb-8d18-5cf3709bbcc6.jpg -> Annotation:D:/YouTube/OD/TFODCourse/Tensorflow/workspace/images/collectedimages/thumbsup/thumbsup.6e0f5bc0-940f-11eb-8d18-5cf3709bbcc6.xml\n",
      "Image:D:\\YouTube\\OD\\TFODCourse\\Tensorflow\\workspace\\images\\collectedimages\\thumbsup\\thumbsup.693a5158-940f-11eb-8752-5cf3709bbcc6.jpg -> Annotation:D:/YouTube/OD/TFODCourse/Tensorflow/workspace/images/collectedimages/thumbsup/thumbsup.693a5158-940f-11eb-8752-5cf3709bbcc6.xml\n"
     ]
    }
   ],
   "source": [
    "!cd {LABELIMG_PATH} && python labelImg.py"
   ]
  },
  {
   "cell_type": "markdown",
   "metadata": {},
   "source": [
    "**manually moved images into training and testing partitions**\n"
   ]
  }
 ],
 "metadata": {
  "kernelspec": {
   "display_name": "tfod",
   "language": "python",
   "name": "tfod"
  },
  "language_info": {
   "codemirror_mode": {
    "name": "ipython",
    "version": 3
   },
   "file_extension": ".py",
   "mimetype": "text/x-python",
   "name": "python",
   "nbconvert_exporter": "python",
   "pygments_lexer": "ipython3",
   "version": "3.9.4"
  }
 },
 "nbformat": 4,
 "nbformat_minor": 2
}
